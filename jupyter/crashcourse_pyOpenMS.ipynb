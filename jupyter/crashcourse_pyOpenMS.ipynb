{
 "nbformat": 4,
 "nbformat_minor": 2,
 "metadata": {
  "language_info": {
   "name": "python",
   "codemirror_mode": {
    "name": "ipython",
    "version": 3
   },
   "version": "3.6.9"
  },
  "orig_nbformat": 2,
  "file_extension": ".py",
  "mimetype": "text/x-python",
  "name": "python",
  "npconvert_exporter": "python",
  "pygments_lexer": "ipython3",
  "version": 3
 },
 "cells": [
  {
   "cell_type": "markdown",
   "metadata": {},
   "source": [
    "# Welcome to a crash-course in pyOpenMS\n",
    "You will learn the basics of accessing mass-spectrometry related fileformats in python and store your results back.\n",
    "You can use this notebook for example with the container `docker://mwalzer/openms-pyopenms:V2.4.0_Ubuntu1804_py3_AcquisitionInfoFix` (*does not include the jupyter server*)"
   ]
  },
  {
   "cell_type": "markdown",
   "metadata": {},
   "source": [
    "## Setting the scene\n",
    "We'll need to import pyOpenMS into python so we can load a peaklist file of type mzML into memory."
   ]
  },
  {
   "cell_type": "code",
   "execution_count": 5,
   "metadata": {},
   "outputs": [],
   "source": [
    "import pyopenms as oms\n",
    "exp = oms.MSExperiment()\n",
    "wf_url = \"ftp://ftp.pride.ebi.ac.uk/pride/data/archive/2019/10/PXD012983/TOR_BR4_re_MultiCon.mzML\"\n",
    "fp = \"/tmp/wf.mzML\"\n",
    "\n",
    "import urllib.request\n",
    "with urllib.request.urlopen(wf_url) as filedata:\n",
    "    datatowrite = filedata.read()\n",
    "with open(fp, 'wb') as f:\n",
    "    f.write(datatowrite)\n",
    "\n",
    "oms.MzMLFile().load(fp,exp)"
   ]
  },
  {
   "cell_type": "markdown",
   "metadata": {},
   "source": [
    "The data is organised in an MSExperiment object, which can be accessed as a read-only list of MSSpectra. However, they are not python lists but cython vectors, which means looping is a bit more elaborate. (*Also, you can not persitantly write into objects you retrieve that way, only `push_back` new items or swap the whole vector*). The spectra will be mixed MS1 and MS2 spectra. You can keep them apart by inspecting their MSLevel attribute by calling `getMSLevel`. There is more information to be had, e.g. with `getNativeID`. Important is that almost all strings you retrieve from cython objects will be binary encoded, which means you have to decode them first."
   ]
  },
  {
   "cell_type": "code",
   "execution_count": 25,
   "metadata": {},
   "outputs": [
    {
     "name": "stdout",
     "output_type": "stream",
     "text": "Spectrum 0: level=2, nativeID=scan=3066 file=99\nSpectrum 1: level=2, nativeID=scan=3067 file=99\nSpectrum 2: level=2, nativeID=scan=3078 file=99\n"
    }
   ],
   "source": [
    "for i in range(0,3):\n",
    "    print(\"Spectrum {i}: level={l}, nativeID={n}\".format(i=i,l=exp[i].getMSLevel(),n=exp[i].getNativeID().decode()))"
   ]
  },
  {
   "cell_type": "markdown",
   "execution_count": null,
   "metadata": {},
   "outputs": [],
   "source": [
    "To get the other way of identifing the spectra, you need to retrieve the RT,MZ, and charge coordinates. RT is pretty straight forward (`getRT`), but the others are to be found in the spectrums precursor objects. *Remember the way MS/MS acquisition works, spectra are recorded by collecting ions, i.e. precursors, of a certain mass, then fragmented to yield the typical peaks.* Since there are techniques that involve more than one precorsor, these are represented as another list of objects. We'll just look at the first one. (*Potential test scenario?*)"
   ]
  },
  {
   "cell_type": "code",
   "execution_count": 26,
   "metadata": {},
   "outputs": [
    {
     "name": "stdout",
     "output_type": "stream",
     "text": "RT:1227.08442,MZ:1122.16284,z:2\n"
    }
   ],
   "source": [
    "print(\"RT:{},MZ:{},z:{}\".format(exp[0].getRT(),exp[0].getPrecursors()[0].getMZ(),exp[0].getPrecursors()[0].getCharge()))"
   ]
  },
  {
   "cell_type": "markdown",
   "execution_count": null,
   "metadata": {},
   "outputs": [],
   "source": [
    "We should also keep in mind that matching with these coordinates is not precise, as the rounding behaviour of decimals might be different between the original conversion software, the identification software, and pyOpenMS. So we need to prepare for situations, where there are coordinate clashes (i.e. more than one spectrum matching a certain set of coordinates)! Also, sometimes the charge information is not reliable present. "
   ]
  },
  {
   "cell_type": "markdown",
   "execution_count": null,
   "metadata": {},
   "outputs": [],
   "source": [
    "## Easy data handover with JSON\n",
    "Next, we might want to store the information we retrieved, favourably in JSON. For this, it is advisable to store any information in a python dictionary. These can be automatically (de-)serialised with the python json library as long as the keys and values are built-in python data types (with some exceptions like datetime). (What to do, if the data is not immediately serialisable?)"
   ]
  },
  {
   "cell_type": "code",
   "execution_count": 21,
   "metadata": {},
   "outputs": [],
   "source": [
    "res = dict()\n",
    "for i in range(0,3):\n",
    "    res[exp[i].getNativeID().decode()]= {\\\n",
    "        'level':exp[i].getMSLevel(), \n",
    "        'RT': exp[i].getRT(), \n",
    "        'MZ': exp[i].getPrecursors()[0].getMZ(),\n",
    "        'c': exp[i].getPrecursors()[0].getCharge()\n",
    "    }"
   ]
  },
  {
   "cell_type": "markdown",
   "execution_count": null,
   "metadata": {},
   "outputs": [],
   "source": [
    "__N.B.: remember to check that data you want to access is present and plan for the right exceptions!__"
   ]
  },
  {
   "cell_type": "code",
   "execution_count": 24,
   "metadata": {},
   "outputs": [
    {
     "name": "stdout",
     "output_type": "stream",
     "text": "{   'scan=3066 file=99': {   'MZ': 1122.16284,\n                             'RT': 1227.08442,\n                             'c': 2,\n                             'level': 2},\n    'scan=3067 file=99': {   'MZ': 1114.16504,\n                             'RT': 1227.2184,\n                             'c': 2,\n                             'level': 2},\n    'scan=3078 file=99': {   'MZ': 1488.22241,\n                             'RT': 1228.81326,\n                             'c': 2,\n                             'level': 2}}\n"
    }
   ],
   "source": [
    "import json\n",
    "with open('/tmp/test.json', 'w') as f:\n",
    "    json.dump(res,f)\n",
    "\n",
    "import pprint\n",
    "pp = pprint.PrettyPrinter(indent=4)\n",
    "with open('/tmp/test.json', 'r') as f:\n",
    "    pp.pprint(json.load(f))"
   ]
  }
 ]
}